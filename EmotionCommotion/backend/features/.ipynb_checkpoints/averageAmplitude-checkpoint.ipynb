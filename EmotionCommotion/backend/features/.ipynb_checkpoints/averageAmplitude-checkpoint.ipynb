{
 "cells": [
  {
   "cell_type": "code",
   "execution_count": 11,
   "metadata": {
    "collapsed": false
   },
   "outputs": [],
   "source": [
    "import numpy as np # Matrix manipulation\n",
    "import scipy.io.wavfile as wav   # Reads wav file\n",
    "import glob # File manipulation\n",
    "import pandas as pd \n",
    "import os\n",
    "from sklearn import linear_model\n",
    "from sklearn.cross_validation import train_test_split\n",
    "\n",
    "\n",
    "\n",
    "IEMOCAP_LOCATION = \"..\"\n",
    "LABEL_LOCATION = \"./data/\"\n",
    "avgAmps = {}\n",
    "for session in range(1,6):\n",
    "    for directory in os.listdir(IEMOCAP_LOCATION + '/IEMOCAP_full_release/Session' + str(session) + '/sentences/wav/'):\n",
    "        for filename in glob.glob(IEMOCAP_LOCATION + '/IEMOCAP_full_release/Session' + str(session) + '/sentences/wav/' + directory + '/*.wav'):\n",
    "            audio = wav.read(filename)\n",
    "            avgAmp = abs(audio[1]).mean()\n",
    "            name = filename.split('/')[-1][:-4]\n",
    "            avgAmps[name] = avgAmp\n",
    "\n",
    "df = pd.DataFrame.from_dict(avgAmps,orient='index').reset_index()\n",
    "df.columns = ['session','Average amplitude']\n",
    "df = df.sort_values(by='session')\n",
    "df.to_csv('../features/averageAmplitude.csv',index=False)"
   ]
  }
 ],
 "metadata": {
  "anaconda-cloud": {},
  "kernelspec": {
   "display_name": "Python [conda env:emotionproject]",
   "language": "python",
   "name": "conda-env-emotionproject-py"
  },
  "language_info": {
   "codemirror_mode": {
    "name": "ipython",
    "version": 3
   },
   "file_extension": ".py",
   "mimetype": "text/x-python",
   "name": "python",
   "nbconvert_exporter": "python",
   "pygments_lexer": "ipython3",
   "version": "3.4.5"
  }
 },
 "nbformat": 4,
 "nbformat_minor": 1
}
